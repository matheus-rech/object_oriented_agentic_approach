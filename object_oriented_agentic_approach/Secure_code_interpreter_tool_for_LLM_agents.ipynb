{
 "cells": [
  {
   "cell_type": "markdown",
   "id": "5fde7616369c1e1e",
   "metadata": {},
   "source": [
    "## Build Your Own Code Interpreter - Dynamic Tool Generation and Execution With o3-mini\n",
    "\n",
    "At the core of providing a LLM Agent capability to interact with the outside world or other Agents is “tool (or function) calling,” where a LLM can invoke a function (a block of code) with arguments. Typically, these functions are predefined by the developer, along with their expected inputs and outputs. However, in this Cookbook, we explore a more flexible paradigm - to **dynamically generate tools** using LLM models (in this case **o3-mini**), with ability to execute the tool using a code interpreter.\n",
    "\n",
    "### Dynamically Generated Tool Calling with Code Interpreter\n",
    "A Dynamically Generated Tool is a function or code block created by the LLM itself at runtime based on the user’s prompt. This means you don’t have to predefine every possible scenario in your codebase—enabling far more open-ended, creative, and adaptive problem-solving.\n",
    "\n",
    "Dynamically Generated Tool Calling goes a step further by granting the LLM the ability to generate tools and execute code blocks on the fly. This dynamic approach is particularly useful for tasks that involve:\n",
    "\n",
    "- Data analysis and visualization\n",
    "- Data manipulation and transformation\n",
    "- Machine learning workflow generation and execution\n",
    "- Process automation and scripting\n",
    "- And much more, as new possibilities emerge through experimentation\n",
    "\n",
    "### Using o3-mini for Dynamic Tool generation\n",
    "\n",
    "Released on 31-Jan-25, o3-mini model has exceptional STEM capabilities—with particular strength in science, math, and coding—all while maintaining the low cost and reduced latency of smaller models. In this Cookbook, we will demonstrate o3-mini's capabilities to generate python code to interpret data and draw insights.\n",
    "\n",
    "Reasoning models are particularly good at generating dynamic tools to analyze data since they can reason on their own, without the need of an explicit chain-of-thought prompt. In fact, providing explicit chain of thought instructions may interfere with model's internal reasoning and lead to suboptimal outcomes. You can learn more about o3-mini [here.](https://openai.com/index/openai-o3-mini/)\n",
    "\n",
    "### Why build your own code interpreter\n",
    "\n",
    "Many API providers—such as OpenAI’s Assistants API—offer built-in code interpreter functionality. These built-in code interpreters can be immensely powerful, but there are situations where developers may need to create their own custom code interpreter. For example:\n",
    "\n",
    "1. **Language or library support**: The built-in interpreter may not support the specific programming language (e.g., C++, Java, etc.) or libraries required for your task.\n",
    "2. **Task compatibility**: Your use case may not be compatible with the provider’s built-in solution.\n",
    "3. **Model constraints**: You might require a language model that isn’t supported by the provider’s interpreter.\n",
    "4. **Cost considerations**: The cost structure for code execution or model usage may not fit your budget or constraints.\n",
    "5. **File size**: The file size of input data is too large or not supported by the provider's interpreter.\n",
    "6. **Integrating with internal systems**: The provider's interpreter may not be able to integrate with your internal systems.\n",
    "\n",
    "### What You’ll Learn\n",
    "By following this Cookbook, you will learn how to:\n",
    "\n",
    "- Set up an isolated Python code execution environment using Docker\n",
    "- Configure your own code interpreter tool for LLM agents\n",
    "- Establish a clear separation of “Agentic” concerns for security and safety\n",
    "- Using **o3-mini** model to dynamically generate code for data analysis\n",
    "- Orchestrate agents to efficiently accomplish a given task\n",
    "- Design an agentic application that can dynamically generate and execute code\n",
    "\n",
    "You’ll learn how to build a custom code interpreter tool from the ground up, leverage the power of LLMs to generate sophisticated code, and safely execute that code in an isolated environment—all in pursuit of making your AI-powered applications more flexible, powerful, and cost-effective."
   ]
  },
  {
   "cell_type": "markdown",
   "id": "fcd93887",
   "metadata": {},
   "source": [
    "### Example Scenario\n",
    "\n",
    "We'll use the sample data provided at [Key Factors Traffic Accidents](https://www.kaggle.com/datasets/willianoliveiragibin/key-factors-traffic-accidents) to answer a set of questions. These questions do not require to be pre-defined, we will give LLM the ability to generate code to answer such question. \n",
    "\n",
    "Sample questions could be: \n",
    "- What factors contribute the most to accident frequency? (Feature importance analysis)\n",
    "- Which areas are at the highest risk of accidents? (Classification/Clustering)\n",
    "- How does traffic fine amount influence the number of accidents? (Regression/Causal inference)\n",
    "- Can we determine the optimal fine amounts to reduce accident rates? (Optimization models)\n",
    "- Do higher fines correlate with lower average speeds or reduced accidents? (Correlation/Regression)\n",
    "- and so on ...\n",
    "\n",
    "Using the traditional **Predefined Tool Calling** approach, developer would need to pre-define the function for each of these questions. This limits the LLM's ability to answer any other questions not defined in the pre-defined set of functions. We overcome this limitation by using the **Dynamic Tool Calling** approach where the LLM generates code and uses a Code Interpretter tool to execute the code. "
   ]
  },
  {
   "cell_type": "markdown",
   "id": "e301abe8",
   "metadata": {},
   "source": [
    "## Overview\n",
    "Let's dive into the steps to build this Agentic Applicaiton with Dynamically generated tool calling. There are three components to this application:"
   ]
  },
  {
   "cell_type": "markdown",
   "id": "8ad2269f",
   "metadata": {},
   "source": [
    "#### Step 1: Set up an isolated code execution container environment\n",
    "\n",
    "We need a secure environment where our LLM generated function calls can be executed. We want to avoid directly running the LLM generated code on the host machine so will create a Docker container environment with restricted resource access (e.g., no network access). By default, Docker containers cannot access the host machine’s file system, which helps ensure that any code generated by the LLM remains contained. \n",
    "\n",
    "##### ⚠️ A WORD OF CAUTION: Implement Strong Gaurdrails for the LLM generated code\n",
    "LLMs could generate harmful code with unintended consequences. As a best practice, isolate the code execution environment with only required access to resources as needed by the task. Avoid running the LLM generated code on your host machine or laptop. \n",
    "\n",
    "#### Step 2: Define and Test the Agents\n",
    "\n",
    "\"**What is an Agent?**\" In the context of this Cookbook, an Agent is:\n",
    "1. Set of instructions for the LLM to follow, i.e. the developer prompt\n",
    "2. A LLM model, and ability to call the model via the API \n",
    "3. Tool call access to a function, and ability to execute the function \n",
    "\n",
    "We will define two agents:\n",
    "1. FileAccessAgent: This agent will read the file and provide the context to the PythonCodeExecAgent.\n",
    "2. PythonCodeExecAgent: This agent will generate the Python code to answer the user's question and execute the code in the Docker container.\n",
    "\n",
    "#### Step 3: Set up Agentic Orchestration to run the application \n",
    "There are various ways to orchestrate the Agents based on the application requirements. In this example, we will use a simple orchestration where the user provides a task and the agents are called in sequence to accomplish the task.  \n",
    "\n",
    "The overall orchestration is shown below:\n",
    "\n",
    "![](../../images/oo_aa_image_1_code_interpreter_agents.png)"
   ]
  },
  {
   "cell_type": "markdown",
   "id": "5a651f8d",
   "metadata": {},
   "source": [
    "## Let's get started\n",
    "\n",
    "\n",
    "### Prerequisites\n",
    "Before you begin, ensure you have the following installed and configured on your host machine:\n",
    "\n",
    "1. Docker: installed and running on your local machine. You can learn more about Docker and [install it from here](https://www.docker.com/). \n",
    "2. Python: installed on your local machine. You can learn more about Python and [install it from here](https://www.python.org/downloads/). \n",
    "3. OpenAI API key: set up on your local machine as an environment variable or in the .env file in the root directory. You can learn more about OpenAI API key and [set it up from here](https://platform.openai.com/docs/api-reference/introduction). \n"
   ]
  },
  {
   "cell_type": "markdown",
   "id": "e1ea3005fbd91c61",
   "metadata": {},
   "source": [
    "### Step 1: Set up an Isolated Code Execution Environment \n",
    "\n",
    "Lets define a Dockerized container environment that will be used to execute our code. I have defined the **[dockerfile](https://github.com/openai/openai-cookbook/blob/main/examples/object_oriented_agentic_approach/resources/docker/dockerfile)** under `resources/docker` directory that will be used to create the container environment with the following specifications:\n",
    "- Python 3.10 as the base \n",
    "- A non-root user \n",
    "- Preinstall the packages in requirements.txt  \n",
    "\n",
    "The requirements.txt included in the docker image creation process contains all the potential packages our LLM generated code may need to accomplish its tasks. Given we will restrict the container from network access, so we need to pre-install the packages that are required for the task. Our LLM will not be allowed to install any additional packages for security purposes. \n",
    "\n",
    "You could create your own docker image with the language requirements (such as Python 3.10) and pre-install the packages that are required for the task, or create a custom docker image with the specific language (such as Java, C++, etc.) and packages that are required for the task. "
   ]
  },
  {
   "cell_type": "markdown",
   "id": "cf2af004",
   "metadata": {},
   "source": [
    "Let's build the docker image with the following command. For the sake of brevity, I have redirected the output to grep the success message and print a message if the build fails."
   ]
  },
  {
   "cell_type": "code",
   "execution_count": 8,
   "id": "fe136739b0bd164a",
   "metadata": {
    "ExecuteTime": {
     "end_time": "2025-01-27T00:13:35.949224Z",
     "start_time": "2025-01-27T00:13:33.524485Z"
    }
   },
   "outputs": [
    {
     "name": "stdout",
     "output_type": "stream",
     "text": [
      "#11 157.5 ERROR: Exception:\n",
      "#11 ERROR: process \"/bin/sh -c pip install --no-cache-dir -r requirements.txt\" did not complete successfully: exit code: 2\n",
      "ERROR: failed to solve: process \"/bin/sh -c pip install --no-cache-dir -r requirements.txt\" did not complete successfully: exit code: 2\n",
      "View build details: docker-desktop://dashboard/build/desktop-linux/desktop-linux/kr7jkir82s3x6b5fiq80kpent\n"
     ]
    }
   ],
   "source": [
    "!docker build -t python_sandbox:latest ./resources/docker 2>&1 | grep -E \"View build details|ERROR\" || echo \"Build failed.\""
   ]
  },
  {
   "cell_type": "markdown",
   "id": "c8c0e9024894d45d",
   "metadata": {},
   "source": [
    "Let's run the container in restricted mode. The container will run in the background. This is our opportunity to define the security policies for the container. It is good practice to only allow the bare minimum features to the container that are required for the task. By default, the container cannot access the host file system from within the container. Let's also restrict its access to network so it cannot access the Internet or any other network resources. "
   ]
  },
  {
   "cell_type": "code",
   "execution_count": 10,
   "id": "cfaa0418f90fde09",
   "metadata": {
    "ExecuteTime": {
     "end_time": "2025-01-27T00:13:43.561453Z",
     "start_time": "2025-01-27T00:13:43.213479Z"
    }
   },
   "outputs": [
    {
     "name": "stdout",
     "output_type": "stream",
     "text": [
      "6235968d91b3c4e30cbab7a93b7b1318502221c87b64c9ae5c67e4a1cdec4afa\n"
     ]
    }
   ],
   "source": [
    "# Run the container in restricted mode. The container will run in the background.\n",
    "!docker run -d --name sandbox --network none --cap-drop all --pids-limit 64 --tmpfs /tmp:rw,size=64M   python_sandbox:latest sleep infinity"
   ]
  },
  {
   "cell_type": "markdown",
   "id": "c21cafbcfdc09e2c",
   "metadata": {},
   "source": [
    "Let's make sure container is running using the `docker ps` that should list our container. "
   ]
  },
  {
   "cell_type": "code",
   "execution_count": 11,
   "id": "e4df845011b77a21",
   "metadata": {
    "ExecuteTime": {
     "end_time": "2025-01-27T00:13:45.473413Z",
     "start_time": "2025-01-27T00:13:45.316092Z"
    }
   },
   "outputs": [
    {
     "name": "stdout",
     "output_type": "stream",
     "text": [
      "CONTAINER ID   IMAGE                                  COMMAND                  CREATED         STATUS          PORTS     NAMES\n",
      "6235968d91b3   python_sandbox:latest                  \"sleep infinity\"         6 seconds ago   Up 5 seconds              sandbox\n",
      "594d6bdf0eb2   docker/labs-vscode-installer:0.0.9     \"/bin/sh -c '/servic…\"   4 weeks ago     Up 31 minutes             docker_labs-vscode-installer-desktop-extension-service\n",
      "9608060dafd6   docker/labs-ai-tools-for-devs:0.0.13   \"/bin/sh -c '/servic…\"   4 weeks ago     Up 31 minutes             docker_labs-ai-tools-for-devs-desktop-extension-service\n"
     ]
    }
   ],
   "source": [
    "!docker ps "
   ]
  },
  {
   "cell_type": "markdown",
   "id": "dd42a2c8f40710c2",
   "metadata": {},
   "source": [
    "### Step 2: Define and Test the Agents\n",
    "\n",
    "For our purposes, we will define two agents. \n",
    "1.\t**Agent 1: File Access Agent (with Pre-defined Tool Calling)**\n",
    "- Instructions to understand the contents of the file to provide as context to Agent 2.\n",
    "- Has access to the host machine’s file system. \n",
    "- Can read a file from the host and copy it into the Docker container.\n",
    "- Cannot access the code interpreter tool.\n",
    "- Uses gpt-4o model.\n",
    "\n",
    "2.\t**Agent 2: Python Code Generator and Executor (with Dynamically Generated Tool Calling and Code Execution)**\n",
    "- Recieve the file content's context from Agent 1.\n",
    "- Instructions to generate a Python script to answer the user's question.\n",
    "- Has access to the code interpreter within the Docker container, which is used to execute Python code.\n",
    "- Has access only to the file system inside the Docker container (not the host).\n",
    "- Cannot access the host machine’s file system or the network.\n",
    "- Uses our newest **o3-mini** model that excels at code generation.\n",
    "\n",
    "This separation concerns of the File Access (Agent 1) and the Code Generator and Executor (Agent 2) is crucial to prevent the LLM from directly accessing or modifying the host machine. \n",
    "\n",
    "\n",
    "**Limit the Agent 1 to Static Tool Calling as it has access to the host file system.**  \n",
    "\n",
    "\n",
    "| Agent | Type of Tool Call | Access to Host File System | Access to Docker Container File System | Access to Code Interpreter |\n",
    "|-------|-------------------|----------------------------|----------------------------------------|----------------------------|\n",
    "| Agent 1: File Access | Pre-defined Tools | Yes | Yes | No |\n",
    "| Agent 2: Python Code Generator and Executor | Dynamically Generated Tools | No | Yes | Yes |\n"
   ]
  },
  {
   "cell_type": "markdown",
   "id": "844d4d2ba5d47226",
   "metadata": {},
   "source": [
    "To keep the Agents and Tools organized, we've defined a set of **core classes** that will be used to create the two agents for consistency using Object Oriented Programming principles.\n",
    "\n",
    "- **BaseAgent**: We start with an abstract base class that enforces common method signatures such as `task()`. Base class also provides a logger for debugging, a language model interface and other common functions such as `add_context()` to add context to the agent. \n",
    "- **ChatMessages**: A class to store the conversation history given ChatCompletions API is stateless. \n",
    "- **ToolManager**: A class to manage the tools that an agent can call.\n",
    "- **ToolInterface**: An abstract class for any 'tool' that an agent can call so that the tools will have a consistent interface.\n",
    "\n",
    "These classes are defined in the [object_oriented_agents/core_classes](./resources/object_oriented_agents/core_classes) directory. "
   ]
  },
  {
   "cell_type": "markdown",
   "id": "b90cda38",
   "metadata": {},
   "source": [
    "#### UML Class Diagram for Core Classes\n",
    "The following class diagram shows the relationship between the core classes. This UML (Unified Modeling Language) has been generated using [Mermaid](https://mermaid)\n",
    "\n",
    "![](../../images/oo_aa_image_2_uml_diagram.png)"
   ]
  },
  {
   "cell_type": "markdown",
   "id": "c6eb923b",
   "metadata": {},
   "source": [
    "**Define Agent 1: FileAccessAgent with FileAccessTool**\n",
    "\n",
    "Let's start with definin the FileAccessTool that inherits from the ToolInterface class. The **FileAccessTool** tool is defined in the [file_access_tool.py](https://github.com/openai/openai-cookbook/blob/main/examples/object_oriented_agentic_approach/resources/registry/tools/file_access_tool.py) file in the `resources/registry/tools` directory.\n",
    "\n",
    "- FileAccessTool implements the ToolInterface class, which ensures that the tools will have a consistent interface. \n",
    "- Binding the tool definition for the OpenAI Function Calling API in the `get_definition` method and the tool's `run` method ensures maintainability, scalability, and reusability. "
   ]
  },
  {
   "cell_type": "markdown",
   "id": "643f349e",
   "metadata": {},
   "source": [
    "Now, let's define the **FileAccessAgent** that extends the BaseAgent class and bind the **FileAccessTool** to the agent. The FileAccessAgent is defined in the [file_acess_agent.py](https://github.com/openai/openai-cookbook/blob/main/examples/object_oriented_agentic_approach/resources/registry/agents/file_access_agent.py) file in `resources/registry/agents` directory. The FileAccessAgent is:\n",
    "\n",
    "- A concrete implementation of the BaseAgent class. \n",
    "- Initialized with the developer prompt, model name, logger, and language model interface. These values can be overridden by the developer if needed. \n",
    "- Has a setup_tools method that registers the FileAccessTool to the tool manager. \n",
    "- Has a `task` method that calls the FileAccessTool to read the file and provide the context to the PythonCodeExecAgent.\n",
    "- `model_name='gpt-4o'` that provides sufficient reasoning and tool calling ability for the task.\n"
   ]
  },
  {
   "cell_type": "markdown",
   "id": "c06cd2e5447b4ff9",
   "metadata": {},
   "source": [
    "**Define Agent 2: PythonExecAgent with PythonExecTool**  \n",
    "\n",
    "Similarly, PythonExecTool inherits from the ToolInterface class and implements the get_definition and run methods. The get_definition method returns the tool definition in the format expected by the OpenAI Function Calling API. The run method executes the Python code in a Docker container and returns the output. This tool is defined in the [python_code_interpreter_tool.py](https://github.com/openai/openai-cookbook/blob/main/examples/object_oriented_agentic_approach/resources/registry/tools/python_code_interpreter_tool.py) file in the `resources/registry/tools` directory.\n",
    "\n",
    "Likewise, PythonExecAgent is a concrete implementation of the BaseAgent class. It is defined in the [python_code_exec_agent.py](https://github.com/openai/openai-cookbook/blob/main/examples/object_oriented_agentic_approach/resources/registry/agents/python_code_exec_agent.py) file in the `resources/registry/agents` directory. The PythonExecAgent is:\n",
    "\n",
    "- A concrete implementation of the BaseAgent class. \n",
    "- Initialized with the developer prompt, model name, logger, and language model interface. These values can be overridden by the developer if needed. \n",
    "- Has a setup_tools method that registers the PythonExecTool to the tool manager. \n",
    "- Has a `task` method that calls the OpenAI API to perform the user's task, which in this case involves generating a Python script to answer the user's question and run it with Code Interpreter tool.\n",
    "- `model_name='o3-mini'` that excels at STEM tasks such as code generation.\n",
    "- `reasoning_effort='high'` that allows for more complete reasoning given the complexity of the task at the cost of more tokens generated and slower responses. The default value is medium, which is a balance between speed and reasoning accuracy.\n",
    "\n",
    "You can learn more about the `reasoning_effort` parameter [here](https://platform.openai.com/docs/guides/reasoning)."
   ]
  },
  {
   "cell_type": "markdown",
   "id": "bb93488f",
   "metadata": {},
   "source": [
    "### Step 3: Set up Agentic Orchestration to run the application \n",
    "\n",
    "With the Agents defined, now we can define the orchestration loop that will run the application. This loop will prompt the user for a question or task, and then call the FileAccessAgent to read the file and provide the context to the PythonExecAgent. The PythonExecAgent will generate the Python code to answer the user's question and execute the code in the Docker container. The output from the code execution will be displayed to the user. \n",
    "\n",
    "User can type 'exit' to stop the application. Our question: **What factors contribute the most to accident frequency?** Note that we did not pre-define the function to answer this question.\n",
    "\n"
   ]
  },
  {
   "cell_type": "code",
   "execution_count": 12,
   "id": "866b7eb2",
   "metadata": {
    "ExecuteTime": {
     "end_time": "2025-02-03T21:05:18.680311Z",
     "start_time": "2025-02-03T21:03:52.169439Z"
    }
   },
   "outputs": [
    {
     "ename": "ModuleNotFoundError",
     "evalue": "No module named 'openai'",
     "output_type": "error",
     "traceback": [
      "\u001b[0;31m---------------------------------------------------------------------------\u001b[0m",
      "\u001b[0;31mModuleNotFoundError\u001b[0m                       Traceback (most recent call last)",
      "Cell \u001b[0;32mIn[12], line 3\u001b[0m\n\u001b[1;32m      1\u001b[0m \u001b[38;5;66;03m# Import the agents from registry/agents\u001b[39;00m\n\u001b[0;32m----> 3\u001b[0m \u001b[38;5;28;01mfrom\u001b[39;00m\u001b[38;5;250m \u001b[39m\u001b[38;5;21;01mresources\u001b[39;00m\u001b[38;5;21;01m.\u001b[39;00m\u001b[38;5;21;01mregistry\u001b[39;00m\u001b[38;5;21;01m.\u001b[39;00m\u001b[38;5;21;01magents\u001b[39;00m\u001b[38;5;21;01m.\u001b[39;00m\u001b[38;5;21;01mfile_access_agent\u001b[39;00m\u001b[38;5;250m \u001b[39m\u001b[38;5;28;01mimport\u001b[39;00m FileAccessAgent\n\u001b[1;32m      4\u001b[0m \u001b[38;5;28;01mfrom\u001b[39;00m\u001b[38;5;250m \u001b[39m\u001b[38;5;21;01mresources\u001b[39;00m\u001b[38;5;21;01m.\u001b[39;00m\u001b[38;5;21;01mregistry\u001b[39;00m\u001b[38;5;21;01m.\u001b[39;00m\u001b[38;5;21;01magents\u001b[39;00m\u001b[38;5;21;01m.\u001b[39;00m\u001b[38;5;21;01mpython_code_exec_agent\u001b[39;00m\u001b[38;5;250m \u001b[39m\u001b[38;5;28;01mimport\u001b[39;00m PythonExecAgent\n\u001b[1;32m      7\u001b[0m prompt \u001b[38;5;241m=\u001b[39m \u001b[38;5;124m\"\"\"\u001b[39m\u001b[38;5;124mUse the file traffic_accidents.csv for your analysis. The column names are:\u001b[39m\n\u001b[1;32m      8\u001b[0m \u001b[38;5;124mVariable\tDescription\u001b[39m\n\u001b[1;32m      9\u001b[0m \u001b[38;5;124maccidents\tNumber of recorded accidents, as a positive integer.\u001b[39m\n\u001b[0;32m   (...)\u001b[0m\n\u001b[1;32m     19\u001b[0m \u001b[38;5;124maccidents\ttraffic_fine_amount\u001b[39m\n\u001b[1;32m     20\u001b[0m \u001b[38;5;124m\"\"\"\u001b[39m\n",
      "File \u001b[0;32m~/object_oriented_agentic_approach/object_oriented_agentic_approach/resources/registry/agents/file_access_agent.py:8\u001b[0m\n\u001b[1;32m      6\u001b[0m \u001b[38;5;28;01mfrom\u001b[39;00m\u001b[38;5;250m \u001b[39m\u001b[38;5;21;01m.\u001b[39;00m\u001b[38;5;21;01m.\u001b[39;00m\u001b[38;5;21;01m.\u001b[39;00m\u001b[38;5;21;01mobject_oriented_agents\u001b[39;00m\u001b[38;5;21;01m.\u001b[39;00m\u001b[38;5;21;01mcore_classes\u001b[39;00m\u001b[38;5;21;01m.\u001b[39;00m\u001b[38;5;21;01mbase_agent\u001b[39;00m\u001b[38;5;250m \u001b[39m\u001b[38;5;28;01mimport\u001b[39;00m BaseAgent\n\u001b[1;32m      7\u001b[0m \u001b[38;5;28;01mfrom\u001b[39;00m\u001b[38;5;250m \u001b[39m\u001b[38;5;21;01m.\u001b[39;00m\u001b[38;5;21;01m.\u001b[39;00m\u001b[38;5;21;01m.\u001b[39;00m\u001b[38;5;21;01mobject_oriented_agents\u001b[39;00m\u001b[38;5;21;01m.\u001b[39;00m\u001b[38;5;21;01mcore_classes\u001b[39;00m\u001b[38;5;21;01m.\u001b[39;00m\u001b[38;5;21;01mtool_manager\u001b[39;00m\u001b[38;5;250m \u001b[39m\u001b[38;5;28;01mimport\u001b[39;00m ToolManager\n\u001b[0;32m----> 8\u001b[0m \u001b[38;5;28;01mfrom\u001b[39;00m\u001b[38;5;250m \u001b[39m\u001b[38;5;21;01m.\u001b[39;00m\u001b[38;5;21;01m.\u001b[39;00m\u001b[38;5;21;01m.\u001b[39;00m\u001b[38;5;21;01mobject_oriented_agents\u001b[39;00m\u001b[38;5;21;01m.\u001b[39;00m\u001b[38;5;21;01mservices\u001b[39;00m\u001b[38;5;21;01m.\u001b[39;00m\u001b[38;5;21;01mopenai_language_model\u001b[39;00m\u001b[38;5;250m \u001b[39m\u001b[38;5;28;01mimport\u001b[39;00m OpenAILanguageModel\n\u001b[1;32m     10\u001b[0m \u001b[38;5;66;03m# Import the Tool\u001b[39;00m\n\u001b[1;32m     11\u001b[0m \u001b[38;5;28;01mfrom\u001b[39;00m\u001b[38;5;250m \u001b[39m\u001b[38;5;21;01m.\u001b[39;00m\u001b[38;5;21;01m.\u001b[39;00m\u001b[38;5;21;01mtools\u001b[39;00m\u001b[38;5;21;01m.\u001b[39;00m\u001b[38;5;21;01mfile_access_tool\u001b[39;00m\u001b[38;5;250m \u001b[39m\u001b[38;5;28;01mimport\u001b[39;00m FileAccessTool\n",
      "File \u001b[0;32m~/object_oriented_agentic_approach/object_oriented_agentic_approach/resources/object_oriented_agents/services/openai_language_model.py:5\u001b[0m\n\u001b[1;32m      3\u001b[0m \u001b[38;5;28;01mfrom\u001b[39;00m\u001b[38;5;250m \u001b[39m\u001b[38;5;21;01mtyping\u001b[39;00m\u001b[38;5;250m \u001b[39m\u001b[38;5;28;01mimport\u001b[39;00m List, Dict, Any, Optional\n\u001b[1;32m      4\u001b[0m \u001b[38;5;28;01mfrom\u001b[39;00m\u001b[38;5;250m \u001b[39m\u001b[38;5;21;01m.\u001b[39;00m\u001b[38;5;21;01mlanguage_model_interface\u001b[39;00m\u001b[38;5;250m \u001b[39m\u001b[38;5;28;01mimport\u001b[39;00m LanguageModelInterface\n\u001b[0;32m----> 5\u001b[0m \u001b[38;5;28;01mfrom\u001b[39;00m\u001b[38;5;250m \u001b[39m\u001b[38;5;21;01m.\u001b[39;00m\u001b[38;5;21;01mopenai_factory\u001b[39;00m\u001b[38;5;250m \u001b[39m\u001b[38;5;28;01mimport\u001b[39;00m OpenAIClientFactory\n\u001b[1;32m      6\u001b[0m \u001b[38;5;28;01mfrom\u001b[39;00m\u001b[38;5;250m \u001b[39m\u001b[38;5;21;01m.\u001b[39;00m\u001b[38;5;21;01m.\u001b[39;00m\u001b[38;5;21;01mutils\u001b[39;00m\u001b[38;5;21;01m.\u001b[39;00m\u001b[38;5;21;01mlogger\u001b[39;00m\u001b[38;5;250m \u001b[39m\u001b[38;5;28;01mimport\u001b[39;00m get_logger\n\u001b[1;32m      8\u001b[0m \u001b[38;5;28;01mclass\u001b[39;00m\u001b[38;5;250m \u001b[39m\u001b[38;5;21;01mOpenAILanguageModel\u001b[39;00m(LanguageModelInterface):\n",
      "File \u001b[0;32m~/object_oriented_agentic_approach/object_oriented_agentic_approach/resources/object_oriented_agents/services/openai_factory.py:3\u001b[0m\n\u001b[1;32m      1\u001b[0m \u001b[38;5;66;03m# object_oriented_agents/services/openai_factory.py\u001b[39;00m\n\u001b[1;32m      2\u001b[0m \u001b[38;5;28;01mimport\u001b[39;00m\u001b[38;5;250m \u001b[39m\u001b[38;5;21;01mos\u001b[39;00m\n\u001b[0;32m----> 3\u001b[0m \u001b[38;5;28;01mfrom\u001b[39;00m\u001b[38;5;250m \u001b[39m\u001b[38;5;21;01mopenai\u001b[39;00m\u001b[38;5;250m \u001b[39m\u001b[38;5;28;01mimport\u001b[39;00m OpenAI\n\u001b[1;32m      4\u001b[0m \u001b[38;5;28;01mfrom\u001b[39;00m\u001b[38;5;250m \u001b[39m\u001b[38;5;21;01mdotenv\u001b[39;00m\u001b[38;5;250m \u001b[39m\u001b[38;5;28;01mimport\u001b[39;00m load_dotenv\n\u001b[1;32m      5\u001b[0m \u001b[38;5;28;01mfrom\u001b[39;00m\u001b[38;5;250m \u001b[39m\u001b[38;5;21;01m.\u001b[39;00m\u001b[38;5;21;01m.\u001b[39;00m\u001b[38;5;21;01mutils\u001b[39;00m\u001b[38;5;21;01m.\u001b[39;00m\u001b[38;5;21;01mlogger\u001b[39;00m\u001b[38;5;250m \u001b[39m\u001b[38;5;28;01mimport\u001b[39;00m get_logger\n",
      "\u001b[0;31mModuleNotFoundError\u001b[0m: No module named 'openai'"
     ]
    }
   ],
   "source": [
    "# Import the agents from registry/agents\n",
    "\n",
    "from resources.registry.agents.file_access_agent import FileAccessAgent\n",
    "from resources.registry.agents.python_code_exec_agent import PythonExecAgent\n",
    "\n",
    "\n",
    "prompt = \"\"\"Use the file traffic_accidents.csv for your analysis. The column names are:\n",
    "Variable\tDescription\n",
    "accidents\tNumber of recorded accidents, as a positive integer.\n",
    "traffic_fine_amount\tTraffic fine amount, expressed in thousands of USD.\n",
    "traffic_density\tTraffic density index, scale from 0 (low) to 10 (high).\n",
    "traffic_lights\tProportion of traffic lights in the area (0 to 1).\n",
    "pavement_quality\tPavement quality, scale from 0 (very poor) to 5 (excellent).\n",
    "urban_area\tUrban area (1) or rural area (0), as an integer.\n",
    "average_speed\tAverage speed of vehicles in km/h.\n",
    "rain_intensity\tRain intensity, scale from 0 (no rain) to 3 (heavy rain).\n",
    "vehicle_count\tEstimated number of vehicles, in thousands, as an integer.\n",
    "time_of_day\tTime of day in 24-hour format (0 to 24).\n",
    "accidents\ttraffic_fine_amount\n",
    "\"\"\"\n",
    "\n",
    "\n",
    "print(\"Setup: \")\n",
    "print(prompt)\n",
    "\n",
    "print(\"Setting up the agents... \")\n",
    "\n",
    "# Instantiate the agents with the default constructor defined values\n",
    "# Developer may override the default values - prompt, model, logger, and language model interface if needed\n",
    "\n",
    "# This agent use gpt-4o by default\n",
    "file_ingestion_agent = FileAccessAgent()\n",
    "\n",
    "# Let's make sure agent uses o3-mini model and set the reasoning_effort to high\n",
    "data_analysis_agent = PythonExecAgent(model_name='o3-mini', reasoning_effort='high')\n",
    "\n",
    "print(\"Understanding the contents of the file...\")\n",
    "# Give a task to the file ingestion agent to read the file and provide the context to the data analysis agent \n",
    "file_ingestion_agent_output = file_ingestion_agent.task(prompt)\n",
    "\n",
    "# Add the file content as context to the data analysis agent\n",
    "# The context is added to the agent's tool manager so that the tool manager can use the context to generate the code \n",
    "\n",
    "data_analysis_agent.add_context(prompt)\n",
    "data_analysis_agent.add_context(file_ingestion_agent_output)\n",
    "\n",
    "while True:\n",
    "\n",
    "    print(\"Type your question related to the data in the file. Type 'exit' to exit.\")\n",
    "    user_input = input(\"Type your question.\")\n",
    "\n",
    "    if user_input == \"exit\":\n",
    "        print(\"Exiting the application.\")\n",
    "        break\n",
    "\n",
    "    print(f\"User question: {user_input}\")\n",
    "\n",
    "    print(\"Generating dynamic tools and using code interpreter...\")\n",
    "    data_analysis_agent_output = data_analysis_agent.task(user_input)\n",
    "\n",
    "    print(\"Output...\")\n",
    "    print(data_analysis_agent_output)\n"
   ]
  },
  {
   "cell_type": "markdown",
   "id": "29f96b97",
   "metadata": {},
   "source": [
    "In this example, the **o3-mini** dynamically generated a tool (Python script) based on user's question to analyze the data. Note that **o3-mini** examined the problem using multiple approaches such as correlation analysis, linear regression and random forest models. This approach highlights the following:\n",
    "\n",
    "**reasoning_effort**: The depth of reasoning the model performs e.g., in this case number of approaches, generally increases when the parameter is increased from low, medium to high. You can try with different levels of reasoning effort to see the difference.\n",
    "\n",
    "**Dynamically Generated Tool Calling**: The tool (Python script) to analyze the data was not manually written or predetermined by the developer. Instead, the o3-mini model created the relevant data exploration and correlation analysis code at runtime.\n",
    "\n",
    "**Isolated Code Execution**: To ensure security and avoid running untrusted code on the host machine, the Python script was executed inside a Docker container using the `execute_python_code` tool. This container had restricted resource access (e.g., no network and limited filesystem access), minimizing potential risks posed by arbitrary code execution.\n"
   ]
  },
  {
   "cell_type": "markdown",
   "id": "bb1ed586",
   "metadata": {},
   "source": [
    "### Conclusion\n",
    "\n",
    "The Cookbook provides a guide for developing a **custom code interpreter** tailored to specific application needs, addressing limitations found in vendor-provided solutions such as language constraints, cost considerations, and the need for flexibility with different LLMs or models.\n",
    "\n",
    "**Approach for Managing Agents and Tools**: We also defined a set of core classes to manage the agents and tools. This approach ensures that the agents and tools will have a consistent interface and can be reused across different applications. A repository of agents and tools such as the [registry](https://github.com/openai/openai-cookbook/tree/main/examples/object_oriented_agentic_approach/resources/registry) folder can be created to manage the agents and tools.\n",
    "\n",
    "**o3-mini model**: We demonstrated o3-mini model's ability to generate sophisticated code at run time to analyze data based on user's minimal prompt. o3-mini model then reasoned over the outcome of the analysis to explain the results to the user.\n",
    "\n",
    "Finally, **to recap**, the three steps to build an Agentic Application with Dynamic Tool Calling are:\n",
    "1. Set up an isolated code execution container environment\n",
    "2. Define and Test the Agents\n",
    "3. Set up Agentic Orchestration to run the application \n",
    "\n",
    "We discussed the importance of isolating the code execution environment to ensure security and avoid running untrusted code on the host machine. With the use case of a CSV file, we demonstrated how to dynamically generate a tool (a Python script) to analyze the data and answer the user's question. We also showed how to execute the code in a Docker container and return the output to the user."
   ]
  }
 ],
 "metadata": {
  "kernelspec": {
   "display_name": "Python 3",
   "language": "python",
   "name": "python3"
  },
  "language_info": {
   "codemirror_mode": {
    "name": "ipython",
    "version": 3
   },
   "file_extension": ".py",
   "mimetype": "text/x-python",
   "name": "python",
   "nbconvert_exporter": "python",
   "pygments_lexer": "ipython3",
   "version": "3.10.16"
  }
 },
 "nbformat": 4,
 "nbformat_minor": 5
}
